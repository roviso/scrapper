{
 "cells": [
  {
   "cell_type": "code",
   "execution_count": 1,
   "id": "4e73d7b4-3d54-44bc-a845-1ebf7b016c05",
   "metadata": {},
   "outputs": [
    {
     "data": {
      "text/plain": [
       "{'code': 200,\n",
       " 'message': '',\n",
       " 'data': [{'id': 7702,\n",
       "   'name': 'Shatkon',\n",
       "   'eventGenreID': 1066,\n",
       "   'eventRatingID': 1000,\n",
       "   'eventTypeID': 1,\n",
       "   'annotation': 'A mysteries investigate a homicide case by RUPAK, a journalist.',\n",
       "   'comments': 'Nepali',\n",
       "   'dtLocalRelease': '2022-05-06T00:00:00',\n",
       "   'lengthInMinutes': 97,\n",
       "   'mediaPlayerTrailerURL': 'https://www.youtube.com/embed/UKO3rSbqrdw',\n",
       "   'mobileTrailerURL': 'https://www.youtube.com/embed/UKO3rSbqrdw',\n",
       "   'releaseNotes': '.',\n",
       "   'genre': 'Mystery',\n",
       "   'eventRating': 'PG',\n",
       "   'eventRatingDescription': None,\n",
       "   'bannerUrl': 'api/public/OneSheetPoster?eventId=7702',\n",
       "   'thumbnailUrl': 'api/public/ThumbnailImage?eventId=7702',\n",
       "   'directorName': None,\n",
       "   'cast': None,\n",
       "   'isParent': False,\n",
       "   'hasBuyTicket': False,\n",
       "   'parentEventId': 0,\n",
       "   'showCount': 0},\n",
       "  {'id': 7703,\n",
       "   'name': 'Lakka Jawan',\n",
       "   'eventGenreID': 1006,\n",
       "   'eventRatingID': 1019,\n",
       "   'eventTypeID': 1,\n",
       "   'annotation': 'Movie is based on social drama where multiple ethnic group are living in society tells the mix story of emotion, love & drama.',\n",
       "   'comments': 'Nepali',\n",
       "   'dtLocalRelease': '2022-05-06T00:00:00',\n",
       "   'lengthInMinutes': 132,\n",
       "   'mediaPlayerTrailerURL': 'https://www.youtube.com/embed/8BmoLPdSFFo',\n",
       "   'mobileTrailerURL': 'https://www.youtube.com/embed/8BmoLPdSFFo',\n",
       "   'releaseNotes': '018249d8',\n",
       "   'genre': 'Comedy',\n",
       "   'eventRating': 'U',\n",
       "   'eventRatingDescription': None,\n",
       "   'bannerUrl': 'api/public/OneSheetPoster?eventId=7703',\n",
       "   'thumbnailUrl': 'api/public/ThumbnailImage?eventId=7703',\n",
       "   'directorName': None,\n",
       "   'cast': None,\n",
       "   'isParent': False,\n",
       "   'hasBuyTicket': False,\n",
       "   'parentEventId': 0,\n",
       "   'showCount': 0},\n",
       "  {'id': 7701,\n",
       "   'name': 'Doctor Strange in the Multiverse of Madness',\n",
       "   'eventGenreID': 1008,\n",
       "   'eventRatingID': 1000,\n",
       "   'eventTypeID': 1,\n",
       "   'annotation': 'Dr. Stephen Strange casts a forbidden spell that opens the doorway to the multiverse, including alternate versions of himself, whose threat to humanity is too great for the combined forces of Strange, Wong, and Wanda Maximoff.',\n",
       "   'comments': 'English',\n",
       "   'dtLocalRelease': '2022-05-06T00:00:00',\n",
       "   'lengthInMinutes': 126,\n",
       "   'mediaPlayerTrailerURL': 'https://www.youtube.com/embed/aWzlQ2N6qqg',\n",
       "   'mobileTrailerURL': 'https://www.youtube.com/embed/aWzlQ2N6qqg',\n",
       "   'releaseNotes': '.',\n",
       "   'genre': 'Action',\n",
       "   'eventRating': 'PG',\n",
       "   'eventRatingDescription': None,\n",
       "   'bannerUrl': 'api/public/OneSheetPoster?eventId=7701',\n",
       "   'thumbnailUrl': 'api/public/ThumbnailImage?eventId=7701',\n",
       "   'directorName': None,\n",
       "   'cast': None,\n",
       "   'isParent': True,\n",
       "   'hasBuyTicket': False,\n",
       "   'parentEventId': 0,\n",
       "   'showCount': 0}],\n",
       " 'success': True,\n",
       " 'status': None}"
      ]
     },
     "execution_count": 1,
     "metadata": {},
     "output_type": "execute_result"
    }
   ],
   "source": [
    "from bs4 import BeautifulSoup\n",
    "import requests\n",
    "import json\n",
    "\n",
    "url=\"https://api.qfxcinemas.com/api/public/ComingSoon\"\n",
    "html_content = requests.get(url).text\n",
    "commingsoon = json.loads(html_content)\n",
    "commingsoon"
   ]
  },
  {
   "cell_type": "code",
   "execution_count": 7,
   "id": "8c941f76-8743-4072-8d5f-2036fd13d40c",
   "metadata": {},
   "outputs": [
    {
     "name": "stdout",
     "output_type": "stream",
     "text": [
      "{'id': 7701, 'name': 'Doctor Strange in the Multiverse of Madness', 'eventGenreID': 1008, 'eventRatingID': 1000, 'eventTypeID': 1, 'annotation': 'Dr. Stephen Strange casts a forbidden spell that opens the doorway to the multiverse, including alternate versions of himself, whose threat to humanity is too great for the combined forces of Strange, Wong, and Wanda Maximoff.', 'comments': 'English', 'dtLocalRelease': '2022-05-06T00:00:00', 'lengthInMinutes': 126, 'mediaPlayerTrailerURL': 'https://www.youtube.com/embed/aWzlQ2N6qqg', 'mobileTrailerURL': 'https://www.youtube.com/embed/aWzlQ2N6qqg', 'releaseNotes': '.', 'genre': 'Action', 'eventRating': 'PG', 'eventRatingDescription': None, 'bannerUrl': 'api/public/OneSheetPoster?eventId=7701', 'thumbnailUrl': 'api/public/ThumbnailImage?eventId=7701', 'directorName': None, 'cast': None, 'isParent': True, 'hasBuyTicket': False, 'parentEventId': 0, 'showCount': 0}\n"
     ]
    }
   ],
   "source": [
    "for movie in commingsoon['data']:\n",
    "    if 'doctor strange' in movie['name'].lower():\n",
    "        print(movie)"
   ]
  },
  {
   "cell_type": "code",
   "execution_count": null,
   "id": "b60a2714-77a5-4521-96c4-0f16c3d2f97c",
   "metadata": {},
   "outputs": [],
   "source": []
  }
 ],
 "metadata": {
  "kernelspec": {
   "display_name": "Python 3 (ipykernel)",
   "language": "python",
   "name": "python3"
  },
  "language_info": {
   "codemirror_mode": {
    "name": "ipython",
    "version": 3
   },
   "file_extension": ".py",
   "mimetype": "text/x-python",
   "name": "python",
   "nbconvert_exporter": "python",
   "pygments_lexer": "ipython3",
   "version": "3.8.8"
  }
 },
 "nbformat": 4,
 "nbformat_minor": 5
}
