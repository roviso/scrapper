{
 "cells": [
  {
   "cell_type": "code",
   "execution_count": 1,
   "id": "5dccf66a-0ab6-4614-9709-01b45faea684",
   "metadata": {},
   "outputs": [],
   "source": [
    "headers = {'User-Agent': 'Mozilla/5.0 (X11; Linux x86_64) AppleWebKit/537.36 (KHTML, like Gecko) Chrome/42.0.2311.90 Safari/537.36'}"
   ]
  },
  {
   "cell_type": "code",
   "execution_count": 6,
   "id": "d54890aa-b9cc-415b-bfc3-8c20f6349c0d",
   "metadata": {},
   "outputs": [],
   "source": [
    "import requests\n",
    "from lxml import html"
   ]
  },
  {
   "cell_type": "code",
   "execution_count": 17,
   "id": "a8a0c1af-f472-416f-9a76-63d78f4c7d1e",
   "metadata": {},
   "outputs": [],
   "source": [
    "comming_soon = requests.get(\"https://api.qfxcinemas.com/api/public/NowShowing\", headers = headers)"
   ]
  },
  {
   "cell_type": "code",
   "execution_count": 4,
   "id": "9c14bebb-eb73-4a72-9e3c-726badd070c3",
   "metadata": {},
   "outputs": [
    {
     "data": {
      "text/plain": [
       "<Response [200]>"
      ]
     },
     "execution_count": 4,
     "metadata": {},
     "output_type": "execute_result"
    }
   ],
   "source": [
    "comming_soon"
   ]
  },
  {
   "cell_type": "code",
   "execution_count": 18,
   "id": "63d4f965-a192-4eb5-a0f1-55902bba14cf",
   "metadata": {},
   "outputs": [],
   "source": [
    "doc = html.fromstring(comming_soon.content)"
   ]
  },
  {
   "cell_type": "code",
   "execution_count": 19,
   "id": "37f5480f-6c2a-415f-b4fa-a3454f17b3da",
   "metadata": {},
   "outputs": [
    {
     "data": {
      "text/plain": [
       "<Element p at 0x7f4ebe55b630>"
      ]
     },
     "execution_count": 19,
     "metadata": {},
     "output_type": "execute_result"
    }
   ],
   "source": [
    "doc"
   ]
  },
  {
   "cell_type": "code",
   "execution_count": 12,
   "id": "e4030249-6a02-4560-96b6-c5b5b5bbcd1e",
   "metadata": {},
   "outputs": [],
   "source": [
    "XPATH_NOW_SHOWING = '//div[@class=\"container\"]//text()'"
   ]
  },
  {
   "cell_type": "code",
   "execution_count": 13,
   "id": "965e5dca-1965-43c1-98ca-2167c068fd68",
   "metadata": {},
   "outputs": [
    {
     "data": {
      "text/plain": [
       "[]"
      ]
     },
     "execution_count": 13,
     "metadata": {},
     "output_type": "execute_result"
    }
   ],
   "source": [
    "doc.xpath(XPATH_NOW_SHOWING)"
   ]
  },
  {
   "cell_type": "code",
   "execution_count": 14,
   "id": "6281916a-6217-4fd0-8d43-610b55c1ef7a",
   "metadata": {},
   "outputs": [
    {
     "data": {
      "text/plain": [
       "'<!doctype html>\\r\\n<html lang=\"en\">\\r\\n<head>\\r\\n  <meta charset=\"utf-8\">\\r\\n  <title>QFX Cinemas | Nepal</title>\\r\\n  <base href=\"/\">\\r\\n  <meta name=\"viewport\" content=\"width=device-width, initial-scale=1\">\\r\\n  <link rel=\"icon\" type=\"image/x-icon\" href=\"/assets/images/favicon.png\">\\r\\n  <link href=\"https://cdnjs.cloudflare.com/ajax/libs/font-awesome/4.7.0/css/font-awesome.min.css\" rel=\"stylesheet\">\\r\\n  <link rel=\"stylesheet\" href=\"https://openlayers.org/en/v4.6.5/css/ol.css\" type=\"text/css\">\\r\\n  <script src=\"https://www.google.com/recaptcha/api.js\" async defer></script>\\r\\n  <script src=\"https://openlayers.org/en/v4.6.5/build/ol.js\" type=\"text/javascript\"></script>\\r\\n  <!-- Global site tag (gtag.js) - Google Analytics For staging.qfxciemas.com-->\\r\\n  <!--<script async src=\"https://www.googletagmanager.com/gtag/js?id=UA-144099954-1\"></script>\\r\\n  <script>\\r\\n    window.dataLayer = window.dataLayer || [];\\r\\n    function gtag() { dataLayer.push(arguments); }\\r\\n    gtag(\\'js\\', new Date());\\r\\n\\r\\n    gtag(\\'config\\', \\'UA-144099954-1\\');\\r\\n  </script>-->\\r\\n\\r\\n  <!-- Global site tag (gtag.js) - Google Analytics For qfxciemas.com -->\\r\\n  <script async src=\"https://www.googletagmanager.com/gtag/js?id=UA-18708193-1\"></script>\\r\\n  <script>\\r\\n    window.dataLayer = window.dataLayer || [];\\r\\n    function gtag() { dataLayer.push(arguments); }\\r\\n    gtag(\\'js\\', new Date());\\r\\n\\r\\n    gtag(\\'config\\', \\'UA-18708193-1\\');\\r\\n  </script>\\r\\n\\r\\n<link rel=\"stylesheet\" href=\"styles.e27c9ba1f4ee5f7f7fd4.css\"></head>\\r\\n<body>\\r\\n  <app-root></app-root>\\r\\n<script type=\"text/javascript\" src=\"runtime.ec2944dd8b20ec099bf3.js\"></script><script type=\"text/javascript\" src=\"polyfills.3bfd66addbd0d2814591.js\"></script><script type=\"text/javascript\" src=\"scripts.e454dd0842cd3c67f3c5.js\"></script><script type=\"text/javascript\" src=\"main.40f53a230a896156cef9.js\"></script></body>\\r\\n</html>\\r\\n'"
      ]
     },
     "execution_count": 14,
     "metadata": {},
     "output_type": "execute_result"
    }
   ],
   "source": [
    "page.text"
   ]
  },
  {
   "cell_type": "code",
   "execution_count": 21,
   "id": "c7ec17f7-8283-460c-b9d6-38394833657a",
   "metadata": {},
   "outputs": [],
   "source": [
    "from bs4 import BeautifulSoup\n",
    "import requests\n",
    "\n",
    "\n",
    "url=\"https://api.qfxcinemas.com/api/public/NowShowing\"\n",
    "html_content = requests.get(url).text\n"
   ]
  },
  {
   "cell_type": "code",
   "execution_count": 22,
   "id": "616b0939-ddd5-4204-ad51-2783d2995be9",
   "metadata": {},
   "outputs": [
    {
     "data": {
      "text/plain": [
       "'{\"code\":200,\"message\":\"\",\"data\":[{\"mediaLink\":\"https://www.youtube.com/embed/JKa05nyUmuQ\",\"name\":\"K.G.F: Chapter 2\",\"showID\":5228,\"showDivisionID\":0,\"eventID\":7683,\"theatreID\":1,\"theatreName\":\"QFX Chhaya Center\",\"auditorioumID\":2,\"auditorioumName\":null,\"auditorioum\":\"CH Audi 2\",\"auditoriumLayoutID\":0,\"auditoriumLayoutSectionID\":0,\"auditoriumLayoutSectionName\":null,\"auditoriumLayoutSectionDesc\":null,\"genre\":null,\"showDate\":\"2022-05-04T17:00:00\",\"annotation\":\"The blood-soaked land of Kolar Gold Fields (KGF) has a new overlord now - Rocky, whose name strikes fear in the heart of his foes. His allies look up to Rocky as their saviour, the government sees him as a threat to law and order; enemies are clamouring for revenge and conspiring for his downfall. Bloodier battles and darker days await as Rocky continues on his quest for unchallenged supremacy.\",\"isSellable\":false,\"isReservable\":false,\"mediaURL\":\"https://www.youtube.com/embed/JKa05nyUmuQ\",\"salesClosesAfterMinutes\":0,\"salesExpTimeInMinute\":0,\"reservationExpTimeInMinute\":0,\"isCurrentAvailable\":false,\"showCategory\":null,\"eventRating\":\"PG\",\"releaseDate\":\"2022-04-14T00:00:00\",\"director\":null,\"cast\":null,\"crew\":null,\"is3DMovie\":false,\"oneSheetPoster\":null,\"bannerUrl\":\"api/public/OneSheetPoster?eventId=7683\",\"thumbnailUrl\":\"api/public/ThumbnailImage?eventId=7683\",\"city\":\"Kathmandu Valley\",\"nowShowingCount\":78,\"showLengthInMinutes\":0,\"companyId\":0,\"nodeUrl\":null,\"expired\":false,\"parentEventId\":0,\"hasParentEvent\":false,\"soldOut\":null,\"fastFilling\":null,\"available\":null},{\"mediaLink\":\"https://www.youtube.com/embed/Faz9PrY6xF8\",\"name\":\"Heropanti 2\",\"showID\":3543,\"showDivisionID\":0,\"eventID\":7698,\"theatreID\":1,\"theatreName\":\"QFX One Stop\",\"auditorioumID\":2,\"auditorioumName\":null,\"auditorioum\":\"BM Audi 2\",\"auditoriumLayoutID\":0,\"auditoriumLayoutSectionID\":0,\"auditoriumLayoutSectionName\":null,\"auditoriumLayoutSectionDesc\":null,\"genre\":null,\"showDate\":\"2022-05-05T15:15:00\",\"annotation\":\"A vigilante is sent on a mission by the government to kill enemy troops. However, things go wrong when he\\'s mistaken for the leader of the troops.\",\"isSellable\":false,\"isReservable\":false,\"mediaURL\":\"https://www.youtube.com/embed/Faz9PrY6xF8\",\"salesClosesAfterMinutes\":0,\"salesExpTimeInMinute\":0,\"reservationExpTimeInMinute\":0,\"isCurrentAvailable\":false,\"showCategory\":null,\"eventRating\":\"PG\",\"releaseDate\":\"2022-04-29T00:00:00\",\"director\":null,\"cast\":null,\"crew\":null,\"is3DMovie\":false,\"oneSheetPoster\":null,\"bannerUrl\":\"api/public/OneSheetPoster?eventId=7698\",\"thumbnailUrl\":\"api/public/ThumbnailImage?eventId=7698\",\"city\":\"Birtamod\",\"nowShowingCount\":41,\"showLengthInMinutes\":0,\"companyId\":0,\"nodeUrl\":null,\"expired\":false,\"parentEventId\":0,\"hasParentEvent\":false,\"soldOut\":null,\"fastFilling\":null,\"available\":null},{\"mediaLink\":\"https://www.youtube.com/embed/C8JZRySDcZQ\",\"name\":\"A Mero Hajur 4\",\"showID\":5210,\"showDivisionID\":0,\"eventID\":7681,\"theatreID\":1,\"theatreName\":\"QFX Chhaya Center\",\"auditorioumID\":1,\"auditorioumName\":null,\"auditorioum\":\"CH Audi 1\",\"auditoriumLayoutID\":0,\"auditoriumLayoutSectionID\":0,\"auditoriumLayoutSectionName\":null,\"auditoriumLayoutSectionDesc\":null,\"genre\":null,\"showDate\":\"2022-05-03T12:00:00\",\"annotation\":\"In the midst of a chaotic world, a boy (Anmol KC) and a girl (Suhana Thapa) meet through an unprecedented event. The opposite attractions between the boy and a girl fold in an immortal love.\",\"isSellable\":false,\"isReservable\":false,\"mediaURL\":\"https://www.youtube.com/embed/C8JZRySDcZQ\",\"salesClosesAfterMinutes\":0,\"salesExpTimeInMinute\":0,\"reservationExpTimeInMinute\":0,\"isCurrentAvailable\":false,\"showCategory\":null,\"eventRating\":\"PG\",\"releaseDate\":\"2022-04-14T00:00:00\",\"director\":null,\"cast\":null,\"crew\":null,\"is3DMovie\":false,\"oneSheetPoster\":null,\"bannerUrl\":\"api/public/OneSheetPoster?eventId=7681\",\"thumbnailUrl\":\"api/public/ThumbnailImage?eventId=7681\",\"city\":\"Kathmandu Valley\",\"nowShowingCount\":30,\"showLengthInMinutes\":0,\"companyId\":0,\"nodeUrl\":null,\"expired\":false,\"parentEventId\":0,\"hasParentEvent\":false,\"soldOut\":null,\"fastFilling\":null,\"available\":null},{\"mediaLink\":\"https://www.youtube.com/embed/rGv8CIkQp_g\",\"name\":\"Runway 34\",\"showID\":1247,\"showDivisionID\":0,\"eventID\":7718,\"theatreID\":1,\"theatreName\":\"Durbar Cinemax\",\"auditorioumID\":1,\"auditorioumName\":null,\"auditorioum\":\"Durbar Audi 1\",\"auditoriumLayoutID\":0,\"auditoriumLayoutSectionID\":0,\"auditoriumLayoutSectionName\":null,\"auditoriumLayoutSectionDesc\":null,\"genre\":null,\"showDate\":\"2022-05-03T18:00:00\",\"annotation\":\"Inspired by true incidents, Ajay Devgn takes us on a turbulent journey with the lives of 150 passengers and crew hanging on a thread. A bombastic face-off ensues between the authorities & him. Will he be declared a saviour or a culprit?\",\"isSellable\":false,\"isReservable\":false,\"mediaURL\":\"https://www.youtube.com/embed/rGv8CIkQp_g\",\"salesClosesAfterMinutes\":0,\"salesExpTimeInMinute\":0,\"reservationExpTimeInMinute\":0,\"isCurrentAvailable\":false,\"showCategory\":null,\"eventRating\":\"PG\",\"releaseDate\":\"2022-04-29T00:00:00\",\"director\":null,\"cast\":null,\"crew\":null,\"is3DMovie\":false,\"oneSheetPoster\":null,\"bannerUrl\":\"api/public/OneSheetPoster?eventId=7718\",\"thumbnailUrl\":\"api/public/ThumbnailImage?eventId=7718\",\"city\":\"Kathmandu Valley\",\"nowShowingCount\":29,\"showLengthInMinutes\":0,\"companyId\":0,\"nodeUrl\":null,\"expired\":false,\"parentEventId\":0,\"hasParentEvent\":false,\"soldOut\":null,\"fastFilling\":null,\"available\":null},{\"mediaLink\":\"https://www.youtube.com/embed/GY4BgdUSpbE\",\"name\":\"RRR\",\"showID\":3144,\"showDivisionID\":0,\"eventID\":7659,\"theatreID\":1,\"theatreName\":\"QFX Butwal\",\"auditorioumID\":2,\"auditorioumName\":null,\"auditorioum\":\"BTW Audi 2\",\"auditoriumLayoutID\":0,\"auditoriumLayoutSectionID\":0,\"auditoriumLayoutSectionName\":null,\"auditoriumLayoutSectionDesc\":null,\"genre\":null,\"showDate\":\"2022-05-03T11:00:00\",\"annotation\":\"A fictitious story about two legendary revolutionaries and their journey away from home before they started fighting for their country in 1920\\'s\",\"isSellable\":false,\"isReservable\":false,\"mediaURL\":\"https://www.youtube.com/embed/GY4BgdUSpbE\",\"salesClosesAfterMinutes\":0,\"salesExpTimeInMinute\":0,\"reservationExpTimeInMinute\":0,\"isCurrentAvailable\":false,\"showCategory\":null,\"eventRating\":\"PG\",\"releaseDate\":\"2022-03-25T00:00:00\",\"director\":null,\"cast\":null,\"crew\":null,\"is3DMovie\":false,\"oneSheetPoster\":null,\"bannerUrl\":\"api/public/OneSheetPoster?eventId=7659\",\"thumbnailUrl\":\"api/public/ThumbnailImage?eventId=7659\",\"city\":\"Butwal\",\"nowShowingCount\":13,\"showLengthInMinutes\":0,\"companyId\":0,\"nodeUrl\":null,\"expired\":false,\"parentEventId\":7659,\"hasParentEvent\":true,\"soldOut\":null,\"fastFilling\":null,\"available\":null},{\"mediaLink\":\"https://www.youtube.com/embed/zpDuBXB_glk\",\"name\":\"The Bad Guys\",\"showID\":5223,\"showDivisionID\":0,\"eventID\":7700,\"theatreID\":1,\"theatreName\":\"QFX Chhaya Center\",\"auditorioumID\":1,\"auditorioumName\":null,\"auditorioum\":\"CH Audi 1\",\"auditoriumLayoutID\":0,\"auditoriumLayoutSectionID\":0,\"auditoriumLayoutSectionName\":null,\"auditoriumLayoutSectionDesc\":null,\"genre\":null,\"showDate\":\"2022-05-05T15:30:00\",\"annotation\":\"Several reformed yet misunderstood criminal animals attempt to become good, with some disastrous results along the way.\",\"isSellable\":false,\"isReservable\":false,\"mediaURL\":\"https://www.youtube.com/embed/zpDuBXB_glk\",\"salesClosesAfterMinutes\":0,\"salesExpTimeInMinute\":0,\"reservationExpTimeInMinute\":0,\"isCurrentAvailable\":false,\"showCategory\":null,\"eventRating\":\"PG\",\"releaseDate\":\"2022-04-29T00:00:00\",\"director\":null,\"cast\":null,\"crew\":null,\"is3DMovie\":false,\"oneSheetPoster\":null,\"bannerUrl\":\"api/public/OneSheetPoster?eventId=7700\",\"thumbnailUrl\":\"api/public/ThumbnailImage?eventId=7700\",\"city\":\"Kathmandu Valley\",\"nowShowingCount\":5,\"showLengthInMinutes\":0,\"companyId\":0,\"nodeUrl\":null,\"expired\":false,\"parentEventId\":7700,\"hasParentEvent\":true,\"soldOut\":null,\"fastFilling\":null,\"available\":null},{\"mediaLink\":\"https://www.youtube.com/embed/DaM_wL1ZOM4\",\"name\":\"Fantastic Beasts: The Secrets of Dumbledore\",\"showID\":5225,\"showDivisionID\":0,\"eventID\":7682,\"theatreID\":1,\"theatreName\":\"QFX Chhaya Center\",\"auditorioumID\":1,\"auditorioumName\":null,\"auditorioum\":\"CH Audi 1\",\"auditoriumLayoutID\":0,\"auditoriumLayoutSectionID\":0,\"auditoriumLayoutSectionName\":null,\"auditoriumLayoutSectionDesc\":null,\"genre\":null,\"showDate\":\"2022-05-05T18:00:00\",\"annotation\":\"The third installment of \\\\\"Fantastic Beasts and Where to Find Them,\\\\\" which follows the continuing adventures of Newt Scamander.\",\"isSellable\":false,\"isReservable\":false,\"mediaURL\":\"https://www.youtube.com/embed/DaM_wL1ZOM4\",\"salesClosesAfterMinutes\":0,\"salesExpTimeInMinute\":0,\"reservationExpTimeInMinute\":0,\"isCurrentAvailable\":false,\"showCategory\":null,\"eventRating\":\"PG\",\"releaseDate\":\"2022-04-15T00:00:00\",\"director\":null,\"cast\":null,\"crew\":null,\"is3DMovie\":false,\"oneSheetPoster\":null,\"bannerUrl\":\"api/public/OneSheetPoster?eventId=7682\",\"thumbnailUrl\":\"api/public/ThumbnailImage?eventId=7682\",\"city\":\"Kathmandu Valley\",\"nowShowingCount\":4,\"showLengthInMinutes\":0,\"companyId\":0,\"nodeUrl\":null,\"expired\":false,\"parentEventId\":0,\"hasParentEvent\":false,\"soldOut\":null,\"fastFilling\":null,\"available\":null},{\"mediaLink\":\"https://www.youtube.com/embed/7m8-sDZvQ-c\",\"name\":\"Mantra\",\"showID\":5217,\"showDivisionID\":0,\"eventID\":7699,\"theatreID\":1,\"theatreName\":\"QFX Chhaya Center\",\"auditorioumID\":3,\"auditorioumName\":null,\"auditorioum\":\"CH Audi 3\",\"auditoriumLayoutID\":0,\"auditoriumLayoutSectionID\":0,\"auditoriumLayoutSectionName\":null,\"auditoriumLayoutSectionDesc\":null,\"genre\":null,\"showDate\":\"2022-05-03T16:30:00\",\"annotation\":\"Mantra is a fictitious love story of himalaya about Ghyappo (Cowboy as Saugat Malla) and a Girl Sangmo (Diya Pun) and he struggle to get her love.\",\"isSellable\":false,\"isReservable\":false,\"mediaURL\":\"https://www.youtube.com/embed/7m8-sDZvQ-c\",\"salesClosesAfterMinutes\":0,\"salesExpTimeInMinute\":0,\"reservationExpTimeInMinute\":0,\"isCurrentAvailable\":false,\"showCategory\":null,\"eventRating\":\"U\",\"releaseDate\":\"2022-04-29T00:00:00\",\"director\":null,\"cast\":null,\"crew\":null,\"is3DMovie\":false,\"oneSheetPoster\":null,\"bannerUrl\":\"api/public/OneSheetPoster?eventId=7699\",\"thumbnailUrl\":\"api/public/ThumbnailImage?eventId=7699\",\"city\":\"Kathmandu Valley\",\"nowShowingCount\":4,\"showLengthInMinutes\":0,\"companyId\":0,\"nodeUrl\":null,\"expired\":false,\"parentEventId\":0,\"hasParentEvent\":false,\"soldOut\":null,\"fastFilling\":null,\"available\":null}],\"success\":true,\"status\":null}'"
      ]
     },
     "execution_count": 22,
     "metadata": {},
     "output_type": "execute_result"
    }
   ],
   "source": [
    "html_content"
   ]
  },
  {
   "cell_type": "code",
   "execution_count": 23,
   "id": "6bf6fc6c-9e1e-41a2-8166-34c981672fe4",
   "metadata": {},
   "outputs": [],
   "source": [
    "import json"
   ]
  },
  {
   "cell_type": "code",
   "execution_count": 28,
   "id": "c1b005de-1451-48cb-a1bd-28b8049770a4",
   "metadata": {},
   "outputs": [],
   "source": [
    "jj = json.loads(html_content)"
   ]
  },
  {
   "cell_type": "code",
   "execution_count": 29,
   "id": "3c39b9ae-da82-4e03-a536-991d0396564a",
   "metadata": {
    "collapsed": true,
    "jupyter": {
     "outputs_hidden": true
    },
    "tags": []
   },
   "outputs": [
    {
     "data": {
      "text/plain": [
       "{'code': 200,\n",
       " 'message': '',\n",
       " 'data': [{'mediaLink': 'https://www.youtube.com/embed/JKa05nyUmuQ',\n",
       "   'name': 'K.G.F: Chapter 2',\n",
       "   'showID': 5228,\n",
       "   'showDivisionID': 0,\n",
       "   'eventID': 7683,\n",
       "   'theatreID': 1,\n",
       "   'theatreName': 'QFX Chhaya Center',\n",
       "   'auditorioumID': 2,\n",
       "   'auditorioumName': None,\n",
       "   'auditorioum': 'CH Audi 2',\n",
       "   'auditoriumLayoutID': 0,\n",
       "   'auditoriumLayoutSectionID': 0,\n",
       "   'auditoriumLayoutSectionName': None,\n",
       "   'auditoriumLayoutSectionDesc': None,\n",
       "   'genre': None,\n",
       "   'showDate': '2022-05-04T17:00:00',\n",
       "   'annotation': 'The blood-soaked land of Kolar Gold Fields (KGF) has a new overlord now - Rocky, whose name strikes fear in the heart of his foes. His allies look up to Rocky as their saviour, the government sees him as a threat to law and order; enemies are clamouring for revenge and conspiring for his downfall. Bloodier battles and darker days await as Rocky continues on his quest for unchallenged supremacy.',\n",
       "   'isSellable': False,\n",
       "   'isReservable': False,\n",
       "   'mediaURL': 'https://www.youtube.com/embed/JKa05nyUmuQ',\n",
       "   'salesClosesAfterMinutes': 0,\n",
       "   'salesExpTimeInMinute': 0,\n",
       "   'reservationExpTimeInMinute': 0,\n",
       "   'isCurrentAvailable': False,\n",
       "   'showCategory': None,\n",
       "   'eventRating': 'PG',\n",
       "   'releaseDate': '2022-04-14T00:00:00',\n",
       "   'director': None,\n",
       "   'cast': None,\n",
       "   'crew': None,\n",
       "   'is3DMovie': False,\n",
       "   'oneSheetPoster': None,\n",
       "   'bannerUrl': 'api/public/OneSheetPoster?eventId=7683',\n",
       "   'thumbnailUrl': 'api/public/ThumbnailImage?eventId=7683',\n",
       "   'city': 'Kathmandu Valley',\n",
       "   'nowShowingCount': 78,\n",
       "   'showLengthInMinutes': 0,\n",
       "   'companyId': 0,\n",
       "   'nodeUrl': None,\n",
       "   'expired': False,\n",
       "   'parentEventId': 0,\n",
       "   'hasParentEvent': False,\n",
       "   'soldOut': None,\n",
       "   'fastFilling': None,\n",
       "   'available': None},\n",
       "  {'mediaLink': 'https://www.youtube.com/embed/Faz9PrY6xF8',\n",
       "   'name': 'Heropanti 2',\n",
       "   'showID': 3543,\n",
       "   'showDivisionID': 0,\n",
       "   'eventID': 7698,\n",
       "   'theatreID': 1,\n",
       "   'theatreName': 'QFX One Stop',\n",
       "   'auditorioumID': 2,\n",
       "   'auditorioumName': None,\n",
       "   'auditorioum': 'BM Audi 2',\n",
       "   'auditoriumLayoutID': 0,\n",
       "   'auditoriumLayoutSectionID': 0,\n",
       "   'auditoriumLayoutSectionName': None,\n",
       "   'auditoriumLayoutSectionDesc': None,\n",
       "   'genre': None,\n",
       "   'showDate': '2022-05-05T15:15:00',\n",
       "   'annotation': \"A vigilante is sent on a mission by the government to kill enemy troops. However, things go wrong when he's mistaken for the leader of the troops.\",\n",
       "   'isSellable': False,\n",
       "   'isReservable': False,\n",
       "   'mediaURL': 'https://www.youtube.com/embed/Faz9PrY6xF8',\n",
       "   'salesClosesAfterMinutes': 0,\n",
       "   'salesExpTimeInMinute': 0,\n",
       "   'reservationExpTimeInMinute': 0,\n",
       "   'isCurrentAvailable': False,\n",
       "   'showCategory': None,\n",
       "   'eventRating': 'PG',\n",
       "   'releaseDate': '2022-04-29T00:00:00',\n",
       "   'director': None,\n",
       "   'cast': None,\n",
       "   'crew': None,\n",
       "   'is3DMovie': False,\n",
       "   'oneSheetPoster': None,\n",
       "   'bannerUrl': 'api/public/OneSheetPoster?eventId=7698',\n",
       "   'thumbnailUrl': 'api/public/ThumbnailImage?eventId=7698',\n",
       "   'city': 'Birtamod',\n",
       "   'nowShowingCount': 41,\n",
       "   'showLengthInMinutes': 0,\n",
       "   'companyId': 0,\n",
       "   'nodeUrl': None,\n",
       "   'expired': False,\n",
       "   'parentEventId': 0,\n",
       "   'hasParentEvent': False,\n",
       "   'soldOut': None,\n",
       "   'fastFilling': None,\n",
       "   'available': None},\n",
       "  {'mediaLink': 'https://www.youtube.com/embed/C8JZRySDcZQ',\n",
       "   'name': 'A Mero Hajur 4',\n",
       "   'showID': 5210,\n",
       "   'showDivisionID': 0,\n",
       "   'eventID': 7681,\n",
       "   'theatreID': 1,\n",
       "   'theatreName': 'QFX Chhaya Center',\n",
       "   'auditorioumID': 1,\n",
       "   'auditorioumName': None,\n",
       "   'auditorioum': 'CH Audi 1',\n",
       "   'auditoriumLayoutID': 0,\n",
       "   'auditoriumLayoutSectionID': 0,\n",
       "   'auditoriumLayoutSectionName': None,\n",
       "   'auditoriumLayoutSectionDesc': None,\n",
       "   'genre': None,\n",
       "   'showDate': '2022-05-03T12:00:00',\n",
       "   'annotation': 'In the midst of a chaotic world, a boy (Anmol KC) and a girl (Suhana Thapa) meet through an unprecedented event. The opposite attractions between the boy and a girl fold in an immortal love.',\n",
       "   'isSellable': False,\n",
       "   'isReservable': False,\n",
       "   'mediaURL': 'https://www.youtube.com/embed/C8JZRySDcZQ',\n",
       "   'salesClosesAfterMinutes': 0,\n",
       "   'salesExpTimeInMinute': 0,\n",
       "   'reservationExpTimeInMinute': 0,\n",
       "   'isCurrentAvailable': False,\n",
       "   'showCategory': None,\n",
       "   'eventRating': 'PG',\n",
       "   'releaseDate': '2022-04-14T00:00:00',\n",
       "   'director': None,\n",
       "   'cast': None,\n",
       "   'crew': None,\n",
       "   'is3DMovie': False,\n",
       "   'oneSheetPoster': None,\n",
       "   'bannerUrl': 'api/public/OneSheetPoster?eventId=7681',\n",
       "   'thumbnailUrl': 'api/public/ThumbnailImage?eventId=7681',\n",
       "   'city': 'Kathmandu Valley',\n",
       "   'nowShowingCount': 30,\n",
       "   'showLengthInMinutes': 0,\n",
       "   'companyId': 0,\n",
       "   'nodeUrl': None,\n",
       "   'expired': False,\n",
       "   'parentEventId': 0,\n",
       "   'hasParentEvent': False,\n",
       "   'soldOut': None,\n",
       "   'fastFilling': None,\n",
       "   'available': None},\n",
       "  {'mediaLink': 'https://www.youtube.com/embed/rGv8CIkQp_g',\n",
       "   'name': 'Runway 34',\n",
       "   'showID': 1247,\n",
       "   'showDivisionID': 0,\n",
       "   'eventID': 7718,\n",
       "   'theatreID': 1,\n",
       "   'theatreName': 'Durbar Cinemax',\n",
       "   'auditorioumID': 1,\n",
       "   'auditorioumName': None,\n",
       "   'auditorioum': 'Durbar Audi 1',\n",
       "   'auditoriumLayoutID': 0,\n",
       "   'auditoriumLayoutSectionID': 0,\n",
       "   'auditoriumLayoutSectionName': None,\n",
       "   'auditoriumLayoutSectionDesc': None,\n",
       "   'genre': None,\n",
       "   'showDate': '2022-05-03T18:00:00',\n",
       "   'annotation': 'Inspired by true incidents, Ajay Devgn takes us on a turbulent journey with the lives of 150 passengers and crew hanging on a thread. A bombastic face-off ensues between the authorities & him. Will he be declared a saviour or a culprit?',\n",
       "   'isSellable': False,\n",
       "   'isReservable': False,\n",
       "   'mediaURL': 'https://www.youtube.com/embed/rGv8CIkQp_g',\n",
       "   'salesClosesAfterMinutes': 0,\n",
       "   'salesExpTimeInMinute': 0,\n",
       "   'reservationExpTimeInMinute': 0,\n",
       "   'isCurrentAvailable': False,\n",
       "   'showCategory': None,\n",
       "   'eventRating': 'PG',\n",
       "   'releaseDate': '2022-04-29T00:00:00',\n",
       "   'director': None,\n",
       "   'cast': None,\n",
       "   'crew': None,\n",
       "   'is3DMovie': False,\n",
       "   'oneSheetPoster': None,\n",
       "   'bannerUrl': 'api/public/OneSheetPoster?eventId=7718',\n",
       "   'thumbnailUrl': 'api/public/ThumbnailImage?eventId=7718',\n",
       "   'city': 'Kathmandu Valley',\n",
       "   'nowShowingCount': 29,\n",
       "   'showLengthInMinutes': 0,\n",
       "   'companyId': 0,\n",
       "   'nodeUrl': None,\n",
       "   'expired': False,\n",
       "   'parentEventId': 0,\n",
       "   'hasParentEvent': False,\n",
       "   'soldOut': None,\n",
       "   'fastFilling': None,\n",
       "   'available': None},\n",
       "  {'mediaLink': 'https://www.youtube.com/embed/GY4BgdUSpbE',\n",
       "   'name': 'RRR',\n",
       "   'showID': 3144,\n",
       "   'showDivisionID': 0,\n",
       "   'eventID': 7659,\n",
       "   'theatreID': 1,\n",
       "   'theatreName': 'QFX Butwal',\n",
       "   'auditorioumID': 2,\n",
       "   'auditorioumName': None,\n",
       "   'auditorioum': 'BTW Audi 2',\n",
       "   'auditoriumLayoutID': 0,\n",
       "   'auditoriumLayoutSectionID': 0,\n",
       "   'auditoriumLayoutSectionName': None,\n",
       "   'auditoriumLayoutSectionDesc': None,\n",
       "   'genre': None,\n",
       "   'showDate': '2022-05-03T11:00:00',\n",
       "   'annotation': \"A fictitious story about two legendary revolutionaries and their journey away from home before they started fighting for their country in 1920's\",\n",
       "   'isSellable': False,\n",
       "   'isReservable': False,\n",
       "   'mediaURL': 'https://www.youtube.com/embed/GY4BgdUSpbE',\n",
       "   'salesClosesAfterMinutes': 0,\n",
       "   'salesExpTimeInMinute': 0,\n",
       "   'reservationExpTimeInMinute': 0,\n",
       "   'isCurrentAvailable': False,\n",
       "   'showCategory': None,\n",
       "   'eventRating': 'PG',\n",
       "   'releaseDate': '2022-03-25T00:00:00',\n",
       "   'director': None,\n",
       "   'cast': None,\n",
       "   'crew': None,\n",
       "   'is3DMovie': False,\n",
       "   'oneSheetPoster': None,\n",
       "   'bannerUrl': 'api/public/OneSheetPoster?eventId=7659',\n",
       "   'thumbnailUrl': 'api/public/ThumbnailImage?eventId=7659',\n",
       "   'city': 'Butwal',\n",
       "   'nowShowingCount': 13,\n",
       "   'showLengthInMinutes': 0,\n",
       "   'companyId': 0,\n",
       "   'nodeUrl': None,\n",
       "   'expired': False,\n",
       "   'parentEventId': 7659,\n",
       "   'hasParentEvent': True,\n",
       "   'soldOut': None,\n",
       "   'fastFilling': None,\n",
       "   'available': None},\n",
       "  {'mediaLink': 'https://www.youtube.com/embed/zpDuBXB_glk',\n",
       "   'name': 'The Bad Guys',\n",
       "   'showID': 5223,\n",
       "   'showDivisionID': 0,\n",
       "   'eventID': 7700,\n",
       "   'theatreID': 1,\n",
       "   'theatreName': 'QFX Chhaya Center',\n",
       "   'auditorioumID': 1,\n",
       "   'auditorioumName': None,\n",
       "   'auditorioum': 'CH Audi 1',\n",
       "   'auditoriumLayoutID': 0,\n",
       "   'auditoriumLayoutSectionID': 0,\n",
       "   'auditoriumLayoutSectionName': None,\n",
       "   'auditoriumLayoutSectionDesc': None,\n",
       "   'genre': None,\n",
       "   'showDate': '2022-05-05T15:30:00',\n",
       "   'annotation': 'Several reformed yet misunderstood criminal animals attempt to become good, with some disastrous results along the way.',\n",
       "   'isSellable': False,\n",
       "   'isReservable': False,\n",
       "   'mediaURL': 'https://www.youtube.com/embed/zpDuBXB_glk',\n",
       "   'salesClosesAfterMinutes': 0,\n",
       "   'salesExpTimeInMinute': 0,\n",
       "   'reservationExpTimeInMinute': 0,\n",
       "   'isCurrentAvailable': False,\n",
       "   'showCategory': None,\n",
       "   'eventRating': 'PG',\n",
       "   'releaseDate': '2022-04-29T00:00:00',\n",
       "   'director': None,\n",
       "   'cast': None,\n",
       "   'crew': None,\n",
       "   'is3DMovie': False,\n",
       "   'oneSheetPoster': None,\n",
       "   'bannerUrl': 'api/public/OneSheetPoster?eventId=7700',\n",
       "   'thumbnailUrl': 'api/public/ThumbnailImage?eventId=7700',\n",
       "   'city': 'Kathmandu Valley',\n",
       "   'nowShowingCount': 5,\n",
       "   'showLengthInMinutes': 0,\n",
       "   'companyId': 0,\n",
       "   'nodeUrl': None,\n",
       "   'expired': False,\n",
       "   'parentEventId': 7700,\n",
       "   'hasParentEvent': True,\n",
       "   'soldOut': None,\n",
       "   'fastFilling': None,\n",
       "   'available': None},\n",
       "  {'mediaLink': 'https://www.youtube.com/embed/DaM_wL1ZOM4',\n",
       "   'name': 'Fantastic Beasts: The Secrets of Dumbledore',\n",
       "   'showID': 5225,\n",
       "   'showDivisionID': 0,\n",
       "   'eventID': 7682,\n",
       "   'theatreID': 1,\n",
       "   'theatreName': 'QFX Chhaya Center',\n",
       "   'auditorioumID': 1,\n",
       "   'auditorioumName': None,\n",
       "   'auditorioum': 'CH Audi 1',\n",
       "   'auditoriumLayoutID': 0,\n",
       "   'auditoriumLayoutSectionID': 0,\n",
       "   'auditoriumLayoutSectionName': None,\n",
       "   'auditoriumLayoutSectionDesc': None,\n",
       "   'genre': None,\n",
       "   'showDate': '2022-05-05T18:00:00',\n",
       "   'annotation': 'The third installment of \"Fantastic Beasts and Where to Find Them,\" which follows the continuing adventures of Newt Scamander.',\n",
       "   'isSellable': False,\n",
       "   'isReservable': False,\n",
       "   'mediaURL': 'https://www.youtube.com/embed/DaM_wL1ZOM4',\n",
       "   'salesClosesAfterMinutes': 0,\n",
       "   'salesExpTimeInMinute': 0,\n",
       "   'reservationExpTimeInMinute': 0,\n",
       "   'isCurrentAvailable': False,\n",
       "   'showCategory': None,\n",
       "   'eventRating': 'PG',\n",
       "   'releaseDate': '2022-04-15T00:00:00',\n",
       "   'director': None,\n",
       "   'cast': None,\n",
       "   'crew': None,\n",
       "   'is3DMovie': False,\n",
       "   'oneSheetPoster': None,\n",
       "   'bannerUrl': 'api/public/OneSheetPoster?eventId=7682',\n",
       "   'thumbnailUrl': 'api/public/ThumbnailImage?eventId=7682',\n",
       "   'city': 'Kathmandu Valley',\n",
       "   'nowShowingCount': 4,\n",
       "   'showLengthInMinutes': 0,\n",
       "   'companyId': 0,\n",
       "   'nodeUrl': None,\n",
       "   'expired': False,\n",
       "   'parentEventId': 0,\n",
       "   'hasParentEvent': False,\n",
       "   'soldOut': None,\n",
       "   'fastFilling': None,\n",
       "   'available': None},\n",
       "  {'mediaLink': 'https://www.youtube.com/embed/7m8-sDZvQ-c',\n",
       "   'name': 'Mantra',\n",
       "   'showID': 5217,\n",
       "   'showDivisionID': 0,\n",
       "   'eventID': 7699,\n",
       "   'theatreID': 1,\n",
       "   'theatreName': 'QFX Chhaya Center',\n",
       "   'auditorioumID': 3,\n",
       "   'auditorioumName': None,\n",
       "   'auditorioum': 'CH Audi 3',\n",
       "   'auditoriumLayoutID': 0,\n",
       "   'auditoriumLayoutSectionID': 0,\n",
       "   'auditoriumLayoutSectionName': None,\n",
       "   'auditoriumLayoutSectionDesc': None,\n",
       "   'genre': None,\n",
       "   'showDate': '2022-05-03T16:30:00',\n",
       "   'annotation': 'Mantra is a fictitious love story of himalaya about Ghyappo (Cowboy as Saugat Malla) and a Girl Sangmo (Diya Pun) and he struggle to get her love.',\n",
       "   'isSellable': False,\n",
       "   'isReservable': False,\n",
       "   'mediaURL': 'https://www.youtube.com/embed/7m8-sDZvQ-c',\n",
       "   'salesClosesAfterMinutes': 0,\n",
       "   'salesExpTimeInMinute': 0,\n",
       "   'reservationExpTimeInMinute': 0,\n",
       "   'isCurrentAvailable': False,\n",
       "   'showCategory': None,\n",
       "   'eventRating': 'U',\n",
       "   'releaseDate': '2022-04-29T00:00:00',\n",
       "   'director': None,\n",
       "   'cast': None,\n",
       "   'crew': None,\n",
       "   'is3DMovie': False,\n",
       "   'oneSheetPoster': None,\n",
       "   'bannerUrl': 'api/public/OneSheetPoster?eventId=7699',\n",
       "   'thumbnailUrl': 'api/public/ThumbnailImage?eventId=7699',\n",
       "   'city': 'Kathmandu Valley',\n",
       "   'nowShowingCount': 4,\n",
       "   'showLengthInMinutes': 0,\n",
       "   'companyId': 0,\n",
       "   'nodeUrl': None,\n",
       "   'expired': False,\n",
       "   'parentEventId': 0,\n",
       "   'hasParentEvent': False,\n",
       "   'soldOut': None,\n",
       "   'fastFilling': None,\n",
       "   'available': None}],\n",
       " 'success': True,\n",
       " 'status': None}"
      ]
     },
     "execution_count": 29,
     "metadata": {},
     "output_type": "execute_result"
    }
   ],
   "source": [
    "jj"
   ]
  },
  {
   "cell_type": "code",
   "execution_count": 33,
   "id": "2b9827a9-e936-45c6-ad43-9e7c0ad8a5ee",
   "metadata": {},
   "outputs": [
    {
     "name": "stdout",
     "output_type": "stream",
     "text": [
      "K.G.F: Chapter 2 2022-05-04T17:00:00 False 78 2022-04-14T00:00:00\n",
      "Heropanti 2 2022-05-05T15:15:00 False 41 2022-04-29T00:00:00\n",
      "A Mero Hajur 4 2022-05-03T12:00:00 False 30 2022-04-14T00:00:00\n",
      "Runway 34 2022-05-03T18:00:00 False 29 2022-04-29T00:00:00\n",
      "RRR 2022-05-03T11:00:00 False 13 2022-03-25T00:00:00\n",
      "The Bad Guys 2022-05-05T15:30:00 False 5 2022-04-29T00:00:00\n",
      "Fantastic Beasts: The Secrets of Dumbledore 2022-05-05T18:00:00 False 4 2022-04-15T00:00:00\n",
      "Mantra 2022-05-03T16:30:00 False 4 2022-04-29T00:00:00\n"
     ]
    }
   ],
   "source": [
    "for movie in jj['data']:\n",
    "    print(movie['name'],movie['showDate'],movie['isCurrentAvailable'],movie['nowShowingCount'],movie['releaseDate'])"
   ]
  },
  {
   "cell_type": "code",
   "execution_count": null,
   "id": "962068af-71ac-4df5-b52d-225b7afbbe89",
   "metadata": {},
   "outputs": [],
   "source": []
  }
 ],
 "metadata": {
  "kernelspec": {
   "display_name": "Python 3 (ipykernel)",
   "language": "python",
   "name": "python3"
  },
  "language_info": {
   "codemirror_mode": {
    "name": "ipython",
    "version": 3
   },
   "file_extension": ".py",
   "mimetype": "text/x-python",
   "name": "python",
   "nbconvert_exporter": "python",
   "pygments_lexer": "ipython3",
   "version": "3.8.8"
  }
 },
 "nbformat": 4,
 "nbformat_minor": 5
}
